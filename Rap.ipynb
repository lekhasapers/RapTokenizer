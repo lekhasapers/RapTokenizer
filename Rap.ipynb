{
  "nbformat": 4,
  "nbformat_minor": 0,
  "metadata": {
    "colab": {
      "provenance": [],
      "authorship_tag": "ABX9TyME0Gy0hERFYMOOkypG/UdI"
    },
    "kernelspec": {
      "name": "python3",
      "display_name": "Python 3"
    },
    "language_info": {
      "name": "python"
    }
  },
  "cells": [
    {
      "cell_type": "code",
      "execution_count": null,
      "metadata": {
        "id": "gEP1v7DtlMsm"
      },
      "outputs": [],
      "source": [
        "!pip install gensim nltk"
      ]
    },
    {
      "cell_type": "code",
      "source": [
        "\n",
        "with open('Action Bronson_lyrics.txt', 'r', encoding='utf-8') as file:\n",
        "    bronson_text = file.read() #change w new rapper\n",
        "\n",
        "print(bronson_text[:500])\n"
      ],
      "metadata": {
        "id": "2HLu0rqbnYam",
        "colab": {
          "base_uri": "https://localhost:8080/"
        },
        "outputId": "b2db1dd5-e2ef-4126-bd23-b91255b9cd3e"
      },
      "execution_count": 3,
      "outputs": [
        {
          "output_type": "stream",
          "name": "stdout",
          "text": [
            "\n",
            "Heartbreak drowned sorrows in a large steak\n",
            "\n",
            "Why you always all on my back?\n",
            "Why you gotta do me like that?\n",
            "Why you gotta act like a bitch when I'm with you?\n",
            "Baby girl I'm blue\n",
            "\n",
            "Because you treat me like shit\n",
            "I paid for the bed and never even slept in it\n",
            "I paid for that crib I never stepped foot in\n",
            "And now somebody else is eating all the pudding\n",
            "Things change, now my dashboard wooden\n",
            "All black Benz, like a young Doc Gooden\n",
            "Dark shades, cause I'm stone crazy\n",
            "Girl, we grown, stop playing on my pho\n"
          ]
        }
      ]
    },
    {
      "cell_type": "code",
      "source": [
        "import nltk\n",
        "from nltk.tokenize import sent_tokenize, word_tokenize\n",
        "\n",
        "nltk.download('punkt')\n",
        "\n",
        "# sentences\n",
        "sentences = sent_tokenize(bronson_text)\n",
        "\n",
        "# words\n",
        "tokenized_sentences = [word_tokenize(sentence.lower()) for sentence in sentences]\n",
        "\n",
        "\n",
        "print(tokenized_sentences[0])\n",
        "\n",
        "\n",
        "\n"
      ],
      "metadata": {
        "id": "1aEiAZLZlctC",
        "colab": {
          "base_uri": "https://localhost:8080/"
        },
        "outputId": "50e0f9ba-c230-4201-a7a6-c72d73c2f58d"
      },
      "execution_count": 5,
      "outputs": [
        {
          "output_type": "stream",
          "name": "stdout",
          "text": [
            "['heartbreak', 'drowned', 'sorrows', 'in', 'a', 'large', 'steak', 'why', 'you', 'always', 'all', 'on', 'my', 'back', '?']\n"
          ]
        },
        {
          "output_type": "stream",
          "name": "stderr",
          "text": [
            "[nltk_data] Downloading package punkt to /root/nltk_data...\n",
            "[nltk_data]   Package punkt is already up-to-date!\n"
          ]
        }
      ]
    },
    {
      "cell_type": "code",
      "source": [
        "from google.colab import files\n",
        "import nltk\n",
        "from nltk.tokenize import word_tokenize\n",
        "from gensim.models import Word2Vec\n",
        "\n",
        "# tokenizing files\n",
        "def tokenize_file(file_path):\n",
        "    with open(file_path, 'r', encoding='utf-8') as file:\n",
        "        text = file.read()\n",
        "        tokens = word_tokenize(text)\n",
        "    return tokens\n",
        "\n",
        "# Upload files\n",
        "uploaded = files.upload()\n",
        "\n",
        "all_tokens = []\n",
        "\n",
        "#iterating\n",
        "for filename in uploaded.keys():\n",
        "    tokens = tokenize_file(filename)\n",
        "    all_tokens.append(tokens)\n",
        "\n",
        "# training stuff\n",
        "model = Word2Vec(sentences=all_tokens, vector_size=100, window=5, min_count=1, workers=4)\n",
        "\n",
        "model.save(\"rap_lyrics_word2vec.model\")\n",
        "\n",
        "# Formatting\n",
        "output_file = \"glove_appropriate_vectors.txt\"\n",
        "with open(output_file, 'w', encoding='utf-8') as f:\n",
        "    # header stuff\n",
        "    vocab_size = len(model.wv)\n",
        "    vector_size = model.vector_size\n",
        "    f.write(f\"{vocab_size} {vector_size}\\n\")\n",
        "\n",
        "    for word in model.wv.index_to_key:\n",
        "        vector = model.wv[word]\n",
        "        vector_str = ' '.join(map(str, vector))\n",
        "        f.write(f\"{word} {vector_str}\\n\")\n",
        "\n",
        "\n",
        "files.download(output_file)\n"
      ],
      "metadata": {
        "colab": {
          "base_uri": "https://localhost:8080/",
          "height": 74
        },
        "id": "96nCoti2KzA_",
        "outputId": "32ecbd5d-a307-41ea-e5a2-496b62ac9727"
      },
      "execution_count": 6,
      "outputs": [
        {
          "output_type": "display_data",
          "data": {
            "text/plain": [
              "<IPython.core.display.HTML object>"
            ],
            "text/html": [
              "\n",
              "     <input type=\"file\" id=\"files-4cff8169-e62b-4054-b566-b27fd06a60cf\" name=\"files[]\" multiple disabled\n",
              "        style=\"border:none\" />\n",
              "     <output id=\"result-4cff8169-e62b-4054-b566-b27fd06a60cf\">\n",
              "      Upload widget is only available when the cell has been executed in the\n",
              "      current browser session. Please rerun this cell to enable.\n",
              "      </output>\n",
              "      <script>// Copyright 2017 Google LLC\n",
              "//\n",
              "// Licensed under the Apache License, Version 2.0 (the \"License\");\n",
              "// you may not use this file except in compliance with the License.\n",
              "// You may obtain a copy of the License at\n",
              "//\n",
              "//      http://www.apache.org/licenses/LICENSE-2.0\n",
              "//\n",
              "// Unless required by applicable law or agreed to in writing, software\n",
              "// distributed under the License is distributed on an \"AS IS\" BASIS,\n",
              "// WITHOUT WARRANTIES OR CONDITIONS OF ANY KIND, either express or implied.\n",
              "// See the License for the specific language governing permissions and\n",
              "// limitations under the License.\n",
              "\n",
              "/**\n",
              " * @fileoverview Helpers for google.colab Python module.\n",
              " */\n",
              "(function(scope) {\n",
              "function span(text, styleAttributes = {}) {\n",
              "  const element = document.createElement('span');\n",
              "  element.textContent = text;\n",
              "  for (const key of Object.keys(styleAttributes)) {\n",
              "    element.style[key] = styleAttributes[key];\n",
              "  }\n",
              "  return element;\n",
              "}\n",
              "\n",
              "// Max number of bytes which will be uploaded at a time.\n",
              "const MAX_PAYLOAD_SIZE = 100 * 1024;\n",
              "\n",
              "function _uploadFiles(inputId, outputId) {\n",
              "  const steps = uploadFilesStep(inputId, outputId);\n",
              "  const outputElement = document.getElementById(outputId);\n",
              "  // Cache steps on the outputElement to make it available for the next call\n",
              "  // to uploadFilesContinue from Python.\n",
              "  outputElement.steps = steps;\n",
              "\n",
              "  return _uploadFilesContinue(outputId);\n",
              "}\n",
              "\n",
              "// This is roughly an async generator (not supported in the browser yet),\n",
              "// where there are multiple asynchronous steps and the Python side is going\n",
              "// to poll for completion of each step.\n",
              "// This uses a Promise to block the python side on completion of each step,\n",
              "// then passes the result of the previous step as the input to the next step.\n",
              "function _uploadFilesContinue(outputId) {\n",
              "  const outputElement = document.getElementById(outputId);\n",
              "  const steps = outputElement.steps;\n",
              "\n",
              "  const next = steps.next(outputElement.lastPromiseValue);\n",
              "  return Promise.resolve(next.value.promise).then((value) => {\n",
              "    // Cache the last promise value to make it available to the next\n",
              "    // step of the generator.\n",
              "    outputElement.lastPromiseValue = value;\n",
              "    return next.value.response;\n",
              "  });\n",
              "}\n",
              "\n",
              "/**\n",
              " * Generator function which is called between each async step of the upload\n",
              " * process.\n",
              " * @param {string} inputId Element ID of the input file picker element.\n",
              " * @param {string} outputId Element ID of the output display.\n",
              " * @return {!Iterable<!Object>} Iterable of next steps.\n",
              " */\n",
              "function* uploadFilesStep(inputId, outputId) {\n",
              "  const inputElement = document.getElementById(inputId);\n",
              "  inputElement.disabled = false;\n",
              "\n",
              "  const outputElement = document.getElementById(outputId);\n",
              "  outputElement.innerHTML = '';\n",
              "\n",
              "  const pickedPromise = new Promise((resolve) => {\n",
              "    inputElement.addEventListener('change', (e) => {\n",
              "      resolve(e.target.files);\n",
              "    });\n",
              "  });\n",
              "\n",
              "  const cancel = document.createElement('button');\n",
              "  inputElement.parentElement.appendChild(cancel);\n",
              "  cancel.textContent = 'Cancel upload';\n",
              "  const cancelPromise = new Promise((resolve) => {\n",
              "    cancel.onclick = () => {\n",
              "      resolve(null);\n",
              "    };\n",
              "  });\n",
              "\n",
              "  // Wait for the user to pick the files.\n",
              "  const files = yield {\n",
              "    promise: Promise.race([pickedPromise, cancelPromise]),\n",
              "    response: {\n",
              "      action: 'starting',\n",
              "    }\n",
              "  };\n",
              "\n",
              "  cancel.remove();\n",
              "\n",
              "  // Disable the input element since further picks are not allowed.\n",
              "  inputElement.disabled = true;\n",
              "\n",
              "  if (!files) {\n",
              "    return {\n",
              "      response: {\n",
              "        action: 'complete',\n",
              "      }\n",
              "    };\n",
              "  }\n",
              "\n",
              "  for (const file of files) {\n",
              "    const li = document.createElement('li');\n",
              "    li.append(span(file.name, {fontWeight: 'bold'}));\n",
              "    li.append(span(\n",
              "        `(${file.type || 'n/a'}) - ${file.size} bytes, ` +\n",
              "        `last modified: ${\n",
              "            file.lastModifiedDate ? file.lastModifiedDate.toLocaleDateString() :\n",
              "                                    'n/a'} - `));\n",
              "    const percent = span('0% done');\n",
              "    li.appendChild(percent);\n",
              "\n",
              "    outputElement.appendChild(li);\n",
              "\n",
              "    const fileDataPromise = new Promise((resolve) => {\n",
              "      const reader = new FileReader();\n",
              "      reader.onload = (e) => {\n",
              "        resolve(e.target.result);\n",
              "      };\n",
              "      reader.readAsArrayBuffer(file);\n",
              "    });\n",
              "    // Wait for the data to be ready.\n",
              "    let fileData = yield {\n",
              "      promise: fileDataPromise,\n",
              "      response: {\n",
              "        action: 'continue',\n",
              "      }\n",
              "    };\n",
              "\n",
              "    // Use a chunked sending to avoid message size limits. See b/62115660.\n",
              "    let position = 0;\n",
              "    do {\n",
              "      const length = Math.min(fileData.byteLength - position, MAX_PAYLOAD_SIZE);\n",
              "      const chunk = new Uint8Array(fileData, position, length);\n",
              "      position += length;\n",
              "\n",
              "      const base64 = btoa(String.fromCharCode.apply(null, chunk));\n",
              "      yield {\n",
              "        response: {\n",
              "          action: 'append',\n",
              "          file: file.name,\n",
              "          data: base64,\n",
              "        },\n",
              "      };\n",
              "\n",
              "      let percentDone = fileData.byteLength === 0 ?\n",
              "          100 :\n",
              "          Math.round((position / fileData.byteLength) * 100);\n",
              "      percent.textContent = `${percentDone}% done`;\n",
              "\n",
              "    } while (position < fileData.byteLength);\n",
              "  }\n",
              "\n",
              "  // All done.\n",
              "  yield {\n",
              "    response: {\n",
              "      action: 'complete',\n",
              "    }\n",
              "  };\n",
              "}\n",
              "\n",
              "scope.google = scope.google || {};\n",
              "scope.google.colab = scope.google.colab || {};\n",
              "scope.google.colab._files = {\n",
              "  _uploadFiles,\n",
              "  _uploadFilesContinue,\n",
              "};\n",
              "})(self);\n",
              "</script> "
            ]
          },
          "metadata": {}
        },
        {
          "output_type": "stream",
          "name": "stdout",
          "text": [
            "Saving Action Bronson_lyrics.txt to Action Bronson_lyrics (1).txt\n"
          ]
        },
        {
          "output_type": "display_data",
          "data": {
            "text/plain": [
              "<IPython.core.display.Javascript object>"
            ],
            "application/javascript": [
              "\n",
              "    async function download(id, filename, size) {\n",
              "      if (!google.colab.kernel.accessAllowed) {\n",
              "        return;\n",
              "      }\n",
              "      const div = document.createElement('div');\n",
              "      const label = document.createElement('label');\n",
              "      label.textContent = `Downloading \"${filename}\": `;\n",
              "      div.appendChild(label);\n",
              "      const progress = document.createElement('progress');\n",
              "      progress.max = size;\n",
              "      div.appendChild(progress);\n",
              "      document.body.appendChild(div);\n",
              "\n",
              "      const buffers = [];\n",
              "      let downloaded = 0;\n",
              "\n",
              "      const channel = await google.colab.kernel.comms.open(id);\n",
              "      // Send a message to notify the kernel that we're ready.\n",
              "      channel.send({})\n",
              "\n",
              "      for await (const message of channel.messages) {\n",
              "        // Send a message to notify the kernel that we're ready.\n",
              "        channel.send({})\n",
              "        if (message.buffers) {\n",
              "          for (const buffer of message.buffers) {\n",
              "            buffers.push(buffer);\n",
              "            downloaded += buffer.byteLength;\n",
              "            progress.value = downloaded;\n",
              "          }\n",
              "        }\n",
              "      }\n",
              "      const blob = new Blob(buffers, {type: 'application/binary'});\n",
              "      const a = document.createElement('a');\n",
              "      a.href = window.URL.createObjectURL(blob);\n",
              "      a.download = filename;\n",
              "      div.appendChild(a);\n",
              "      a.click();\n",
              "      div.remove();\n",
              "    }\n",
              "  "
            ]
          },
          "metadata": {}
        },
        {
          "output_type": "display_data",
          "data": {
            "text/plain": [
              "<IPython.core.display.Javascript object>"
            ],
            "application/javascript": [
              "download(\"download_836879fe-1a9f-4a39-b85d-0908df65917b\", \"glove_appropriate_vectors.txt\", 7520094)"
            ]
          },
          "metadata": {}
        }
      ]
    },
    {
      "cell_type": "code",
      "source": [
        "!pip install gensim pyphen\n",
        "\n"
      ],
      "metadata": {
        "colab": {
          "base_uri": "https://localhost:8080/"
        },
        "id": "Nwac-20xPwof",
        "outputId": "e9b73da6-c510-472e-d630-50d5cf500824"
      },
      "execution_count": 7,
      "outputs": [
        {
          "output_type": "stream",
          "name": "stdout",
          "text": [
            "Requirement already satisfied: gensim in /usr/local/lib/python3.10/dist-packages (4.3.2)\n",
            "Collecting pyphen\n",
            "  Downloading pyphen-0.15.0-py3-none-any.whl (2.1 MB)\n",
            "\u001b[2K     \u001b[90m━━━━━━━━━━━━━━━━━━━━━━━━━━━━━━━━━━━━━━━━\u001b[0m \u001b[32m2.1/2.1 MB\u001b[0m \u001b[31m11.4 MB/s\u001b[0m eta \u001b[36m0:00:00\u001b[0m\n",
            "\u001b[?25hRequirement already satisfied: numpy>=1.18.5 in /usr/local/lib/python3.10/dist-packages (from gensim) (1.25.2)\n",
            "Requirement already satisfied: scipy>=1.7.0 in /usr/local/lib/python3.10/dist-packages (from gensim) (1.11.4)\n",
            "Requirement already satisfied: smart-open>=1.8.1 in /usr/local/lib/python3.10/dist-packages (from gensim) (6.4.0)\n",
            "Installing collected packages: pyphen\n",
            "Successfully installed pyphen-0.15.0\n"
          ]
        }
      ]
    },
    {
      "cell_type": "code",
      "source": [
        "import numpy as np\n",
        "from gensim.models import KeyedVectors\n",
        "import requests\n",
        "import random\n",
        "import string\n",
        "import nltk\n",
        "from nltk.corpus import wordnet as wn\n",
        "\n",
        "# natty lang toolkit\n",
        "nltk.download('averaged_perceptron_tagger')\n",
        "nltk.download('wordnet')\n",
        "\n"
      ],
      "metadata": {
        "colab": {
          "base_uri": "https://localhost:8080/"
        },
        "id": "n6QzejqeYIbx",
        "outputId": "a1c000ae-3e64-4975-f47f-50e32bbaf1c7"
      },
      "execution_count": 9,
      "outputs": [
        {
          "output_type": "stream",
          "name": "stderr",
          "text": [
            "[nltk_data] Downloading package averaged_perceptron_tagger to\n",
            "[nltk_data]     /root/nltk_data...\n",
            "[nltk_data]   Unzipping taggers/averaged_perceptron_tagger.zip.\n",
            "[nltk_data] Downloading package wordnet to /root/nltk_data...\n"
          ]
        },
        {
          "output_type": "execute_result",
          "data": {
            "text/plain": [
              "True"
            ]
          },
          "metadata": {},
          "execution_count": 9
        }
      ]
    },
    {
      "cell_type": "code",
      "source": [
        "\n",
        "file_path = 'glove_appropriate_vectors.txt'\n",
        "\n",
        "# being cleaned\n",
        "def clean_word(word):\n",
        "    cleaned = word.translate(str.maketrans('', '', string.punctuation))\n",
        "    return cleaned if len(cleaned) > 2  else ''\n",
        "\n",
        "#loading\n",
        "def load_vectors(file_path):\n",
        "    with open(file_path, 'r') as f:\n",
        "        num_vectors, vector_size = map(int, f.readline().split())\n",
        "        word_vectors = KeyedVectors(vector_size)\n",
        "\n",
        "        for line in f:\n",
        "            values = line.split()\n",
        "            word = clean_word(values[0])\n",
        "            if word:  # not null\n",
        "                vector = np.asarray(values[1:], dtype='float32')\n",
        "                word_vectors.add_vector(word, vector)\n",
        "\n",
        "    return word_vectors\n",
        "\n",
        "word_vectors = load_vectors(file_path)\n",
        "\n",
        "# Datamuse stuff\n",
        "def get_rhyming_words(word, topics=\"justice,drugs,alcohol,love\", num_words=5000):\n",
        "    url = f\"https://api.datamuse.com/words?rel_rhy={word}&max={num_words}&topics={topics}\"\n",
        "    response = requests.get(url)\n",
        "    rhymes = response.json()\n",
        "    rhyming_words = [clean_word(rhyme['word']) for rhyme in rhymes if clean_word(rhyme['word']) in word_vectors.key_to_index]\n",
        "    return [word for word in rhyming_words if len(word) > 2]  # semantic trouble w short words\n",
        "\n",
        "# POS tagging\n",
        "def get_word_with_pos(word, pos_tag, used_words, context=[]):\n",
        "    similar_words = word_vectors.most_similar(word, topn=1000)\n",
        "    for similar_word, _ in similar_words:\n",
        "        cleaned_word = clean_word(similar_word)\n",
        "        if cleaned_word and nltk.pos_tag([cleaned_word])[0][1] == pos_tag and cleaned_word not in used_words and cleaned_word not in context:\n",
        "            return cleaned_word\n",
        "    for similar_word, _ in similar_words:\n",
        "        cleaned_word = clean_word(similar_word)\n",
        "        if cleaned_word and cleaned_word not in used_words:\n",
        "            return cleaned_word\n",
        "    return word\n",
        "\n",
        "# basic sentence templates + context\n",
        "def generate_line(template, used_words, context=[]):\n",
        "    tokens = template.split()\n",
        "    line = []\n",
        "    for token in tokens:\n",
        "        pos_tag = token\n",
        "        if pos_tag == 'NN':\n",
        "            word = get_word_with_pos(random.choice(context) if context else 'word', 'NN', used_words, context)\n",
        "        elif pos_tag == 'VB':\n",
        "            word = get_word_with_pos(random.choice(context) if context else 'word', 'VB', used_words, context)\n",
        "        else:\n",
        "            word = token\n",
        "        line.append(word)\n",
        "        used_words.add(word)\n",
        "        context.append(word)\n",
        "    return \" \".join(line)\n",
        "\n",
        "# generating templates\n",
        "def generate_verse(start_word, topics=None, num_lines=20, max_line_length=10, rhyme_scheme='AABB'):\n",
        "    verse = []\n",
        "    current_word = clean_word(start_word)\n",
        "    used_words = set()\n",
        "    templates = [\n",
        "        \"NN VB NN\",\n",
        "        \"NN VB NN with NN\",\n",
        "        \"NN VB NN and NN VB NN\",\n",
        "        \"NN VB NN because NN VB NN\"\n",
        "\n",
        "    ]\n",
        "\n",
        "    for _ in range(num_lines // 2):\n",
        "        template1 = random.choice(templates)\n",
        "        line1 = generate_line(template1, used_words, [current_word])\n",
        "\n",
        "        rhyming_words1 = get_rhyming_words(current_word, topics)\n",
        "        if rhyming_words1:\n",
        "            rhyming_word1 = random.choice(rhyming_words1)\n",
        "            line1 += f\" with {rhyming_word1}\"\n",
        "            used_words.add(rhyming_word1)\n",
        "            current_word = clean_word(rhyming_word1)\n",
        "        else:\n",
        "            rhyming_word1 = current_word\n",
        "\n",
        "        verse.append(line1)\n",
        "\n",
        "        template2 = random.choice(templates)\n",
        "        line2 = generate_line(template2, used_words, [current_word])\n",
        "\n",
        "        rhyming_words2 = get_rhyming_words(current_word, topics)\n",
        "        if rhyming_words2:\n",
        "            rhyming_word2 = random.choice(rhyming_words2)\n",
        "            line2 += f\" with {rhyming_word2}\"\n",
        "            used_words.add(rhyming_word2)\n",
        "            current_word = clean_word(rhyming_word2)\n",
        "        else:\n",
        "            rhyming_word2 = current_word\n",
        "\n",
        "        verse.append(line2)\n",
        "\n",
        "    return \"\\n\".join(verse)\n",
        "\n",
        "start_word = \"food\"\n",
        "topics = [\"food\", \"cars\"]\n",
        "verse = generate_verse(start_word,topics=topics) #incl start_word here if you want to uncomment\n",
        "print(verse)\n",
        "\n",
        "with open(\"generated_verse_kl.txt\", \"w\") as f:\n",
        "    f.write(verse)\n"
      ],
      "metadata": {
        "colab": {
          "base_uri": "https://localhost:8080/"
        },
        "id": "KpIyFTtwRb3F",
        "outputId": "85fecd62-1fee-47ff-909e-95e50f1f8aa5"
      },
      "execution_count": 18,
      "outputs": [
        {
          "output_type": "stream",
          "name": "stdout",
          "text": [
            "ace Tap Scion with Lenny with longitude\n",
            "drunk keep hair and bullshit get shit with food\n",
            "Came Welcome Fila and fence Slow kingdom with dude\n",
            "play make man because bitch have fuck with nude\n",
            "sticky remember glass with rude\n",
            "Notre Belize Medication because Hello take Uhh with nude\n",
            "vehicle bullpen attack with longitude\n",
            "pass see land because Jungle give time with food\n",
            "gavel Kind die with longitude\n",
            "dropkick know dick with attitude\n",
            "beach GIVE hung and Bronco Throw pirouette with rude\n",
            "frame remove east with nude\n",
            "Piston Keep kitty and llac say Russia with food\n",
            "height Pippen Medikit and Fuck let flipjack with rude\n",
            "yakitori Reverend Nevada and Stick leave brag with nude\n",
            "Pack Look Justin with dude\n",
            "Cause Take baby with longitude\n",
            "day believe Ride because child Put head with attitude\n",
            "truant Shake hoody with dude\n",
            "smoke Get money and Shit slow want with food\n"
          ]
        }
      ]
    }
  ]
}